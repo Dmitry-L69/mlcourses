{
 "cells": [
  {
   "cell_type": "markdown",
   "metadata": {},
   "source": [
    "<h3>Question 1</h3>"
   ]
  },
  {
   "cell_type": "markdown",
   "metadata": {},
   "source": [
    "Listing top products that a user is prone to buy (based on his/her click history)"
   ]
  },
  {
   "cell_type": "markdown",
   "metadata": {},
   "source": [
    "<h3>Question 2</h3>"
   ]
  },
  {
   "cell_type": "markdown",
   "metadata": {},
   "source": [
    "Answer is logN "
   ]
  },
  {
   "cell_type": "markdown",
   "metadata": {},
   "source": [
    "<h3>Question 3</h3>"
   ]
  },
  {
   "cell_type": "code",
   "execution_count": 8,
   "metadata": {},
   "outputs": [
    {
     "name": "stdout",
     "output_type": "stream",
     "text": [
      "left  0.9910760598382222\n",
      "right  0.9940302114769565\n",
      "S0  0.9927744539878083\n",
      "p1  0.45\n",
      "p2  0.55\n",
      "Answer is  0.0001\n"
     ]
    }
   ],
   "source": [
    "import numpy as np\n",
    "\n",
    "def S(y):\n",
    "    p_y = y[y == 1].shape[0] / y.shape[0]\n",
    "    p_b = y[y == 0].shape[0] / y.shape[0]\n",
    "    return - p_y * np.log2(p_y) - p_b * np.log2(p_b) \n",
    "\n",
    "X = np.linspace(0, 19, 20)\n",
    "y = np.array([1,0,0,0,0,1,1,1,1,0,0,0,0,1,1,1,1,1,1,0])\n",
    "\n",
    "y_l = y[X <= 8]\n",
    "y_r = y[X > 8]\n",
    "\n",
    "print('left ', S(y_l))\n",
    "print('right ', S(y_r))\n",
    "print('S0 ', S(y))\n",
    "print('p1 ', y_l.shape[0] / y.shape[0])\n",
    "print('p2 ', y_r.shape[0] / y.shape[0])\n",
    "\n",
    "S = S(y) - y_l.shape[0] / y.shape[0] * S(y_l) - y_r.shape[0] / y.shape[0] * S(y_r)\n",
    "\n",
    "\n",
    "print('Answer is ', round(S, 4))"
   ]
  },
  {
   "cell_type": "markdown",
   "metadata": {},
   "source": [
    "<h3>Question 4</h3>"
   ]
  },
  {
   "cell_type": "code",
   "execution_count": null,
   "metadata": {},
   "outputs": [],
   "source": []
  },
  {
   "cell_type": "markdown",
   "metadata": {},
   "source": [
    "<h3>Question 5</h3>"
   ]
  },
  {
   "cell_type": "code",
   "execution_count": 35,
   "metadata": {},
   "outputs": [],
   "source": [
    "from sklearn.datasets import load_iris\n",
    "from sklearn.tree import DecisionTreeClassifier, export_graphviz\n",
    "\n",
    "\n",
    "data = load_iris()['data']\n",
    "target = load_iris()['target']\n",
    "\n",
    "\n",
    "names = load_iris()['feature_names']\n"
   ]
  },
  {
   "cell_type": "code",
   "execution_count": 25,
   "metadata": {},
   "outputs": [],
   "source": [
    "import pydotplus #pip install pydotplus\n",
    "from sklearn.tree import export_graphviz\n",
    "\n",
    "def tree_graph_to_png(tree, feature_names, png_file_to_save):\n",
    "    tree_str = export_graphviz(tree, feature_names=feature_names, \n",
    "                                     filled=True, out_file=None)\n",
    "    graph = pydotplus.graph_from_dot_data(tree_str)  \n",
    "    graph.write_png(png_file_to_save)"
   ]
  },
  {
   "cell_type": "code",
   "execution_count": 39,
   "metadata": {},
   "outputs": [
    {
     "data": {
      "text/plain": [
       "DecisionTreeClassifier(class_weight=None, criterion='gini', max_depth=4,\n",
       "                       max_features=None, max_leaf_nodes=None,\n",
       "                       min_impurity_decrease=0.0, min_impurity_split=None,\n",
       "                       min_samples_leaf=1, min_samples_split=2,\n",
       "                       min_weight_fraction_leaf=0.0, presort=False,\n",
       "                       random_state=17, splitter='best')"
      ]
     },
     "execution_count": 39,
     "metadata": {},
     "output_type": "execute_result"
    }
   ],
   "source": [
    "tree = DecisionTreeClassifier(max_depth=4, \n",
    "                                  random_state=17)\n",
    "tree.fit(data[:150], target[:150])"
   ]
  },
  {
   "cell_type": "code",
   "execution_count": 40,
   "metadata": {},
   "outputs": [],
   "source": [
    "tree_graph_to_png(tree=tree, feature_names=names, \n",
    "                  png_file_to_save='Quiz1_task5.png')"
   ]
  },
  {
   "cell_type": "code",
   "execution_count": 41,
   "metadata": {},
   "outputs": [
    {
     "name": "stdout",
     "output_type": "stream",
     "text": [
      "Answer is 7\n"
     ]
    }
   ],
   "source": [
    "print('Answer is 7')"
   ]
  }
 ],
 "metadata": {
  "kernelspec": {
   "display_name": "Python 3",
   "language": "python",
   "name": "python3"
  },
  "language_info": {
   "codemirror_mode": {
    "name": "ipython",
    "version": 3
   },
   "file_extension": ".py",
   "mimetype": "text/x-python",
   "name": "python",
   "nbconvert_exporter": "python",
   "pygments_lexer": "ipython3",
   "version": "3.6.7"
  }
 },
 "nbformat": 4,
 "nbformat_minor": 2
}
